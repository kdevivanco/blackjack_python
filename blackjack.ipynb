{
 "cells": [
  {
   "cell_type": "code",
   "execution_count": 1,
   "id": "26593a70",
   "metadata": {},
   "outputs": [],
   "source": [
    "class Card:\n",
    "\n",
    "    def __init__( self , suit , point_val , string_val ):\n",
    "        \n",
    "        self.suit = suit\n",
    "        self.point_val = point_val\n",
    "        self.string_val = string_val\n",
    "\n",
    "    def card_info(self):\n",
    "        print(f\"{self.string_val} of {self.suit} : {self.point_val} points\") \n",
    "        \n"
   ]
  },
  {
   "cell_type": "code",
   "execution_count": 2,
   "id": "e1ff9f22",
   "metadata": {},
   "outputs": [],
   "source": [
    "import random \n",
    "\n",
    "class Deck:\n",
    "\n",
    "\n",
    "    def __init__( self ):\n",
    "        suits = [ \"spades\" , \"hearts\" , \"clubs\" , \"diamonds\" ]\n",
    "        self.cards = []\n",
    "\n",
    "        for s in suits:\n",
    "            for i in range(1,14):\n",
    "                str_val = \"\"\n",
    "                if i == 1:\n",
    "                    str_val = \"Ace\"\n",
    "                elif i == 11:\n",
    "                    str_val = \"Jack\"\n",
    "                elif i == 12:\n",
    "                    str_val = \"Queen\"\n",
    "                elif i == 13:\n",
    "                    str_val = \"King\"\n",
    "                else:\n",
    "                    str_val = str(i)\n",
    "                self.cards.append(Card( s , i , str_val ) )\n",
    "\n",
    "    def show_cards(self):\n",
    "        for card in self.cards:\n",
    "            card.card_info()\n",
    "\n",
    "    def show_values(self):\n",
    "        for card in self.cards:\n",
    "            print(card.point_val)\n",
    "    \n",
    "    def sacar_carta(self):\n",
    "        carta_elegida = random.choice(self.cards)\n",
    "        self.cards.remove(carta_elegida)  \n",
    "        return carta_elegida"
   ]
  },
  {
   "cell_type": "code",
   "execution_count": null,
   "id": "c3164962",
   "metadata": {},
   "outputs": [],
   "source": []
  },
  {
   "cell_type": "code",
   "execution_count": null,
   "id": "563aefe0",
   "metadata": {},
   "outputs": [],
   "source": []
  },
  {
   "cell_type": "code",
   "execution_count": 3,
   "id": "8cd8e1a8",
   "metadata": {},
   "outputs": [],
   "source": [
    "class Humano:\n",
    "    def __init__(self,name):\n",
    "        self.name = name\n",
    "        self.hand = []\n",
    "        \n",
    "    def elegir_carta(self,maso):\n",
    "        carta_jugador = maso.sacar_carta()\n",
    "        self.hand.append(carta_jugador) #agrega la nueva carta a la mano\n",
    "     #imprime que carta salio\n",
    "    \n",
    "    def sumar_carta(self,maso):\n",
    "        self.card_sum = 0\n",
    "        for card in self.hand:\n",
    "            self.card_sum += card.point_val\n",
    "        return self.card_sum #Suma del valor de las cartas FALTA AGREGAR CONDICION PARA As\n",
    "    \n",
    "    def show_hand(self):\n",
    "        for card in self.hand:\n",
    "            print (card.card_info())\n",
    "        "
   ]
  },
  {
   "cell_type": "code",
   "execution_count": 4,
   "id": "81549c5c",
   "metadata": {},
   "outputs": [],
   "source": [
    "class Dealer(Humano):\n",
    "    \n",
    "    def __init__(self,name):\n",
    "        super().__init__(name)\n",
    "        \n",
    "    def mano_menor(self,maso):\n",
    "        card_sum = 0\n",
    "        for card in self.hand:\n",
    "            card_sum += card.point_val\n",
    "        \n",
    "        if card_sum < 16:\n",
    "            self.elegir_carta(maso)\n",
    "    \n",
    "    "
   ]
  },
  {
   "cell_type": "code",
   "execution_count": 5,
   "id": "5f1dcac5",
   "metadata": {},
   "outputs": [],
   "source": [
    "class Jugador(Humano):\n",
    "    def __init__(self,name):\n",
    "        super().__init__(name)\n",
    "    \n",
    "    def preguntar(self,maso):\n",
    "        respuesta = input('Quieres sacar una carta más? Si/No: ')\n",
    "        \n",
    "        if respuesta.lower() == 'si':\n",
    "            self.elegir_carta(maso)\n",
    "        \n",
    "        else:\n",
    "            pass \n",
    "    "
   ]
  },
  {
   "cell_type": "code",
   "execution_count": 6,
   "id": "1856e92a",
   "metadata": {},
   "outputs": [],
   "source": [
    "class Game:\n",
    "    def __init__(self):\n",
    "        self = self\n",
    "        \n",
    "    def check_points(self,dealer,jugador):\n",
    "        if jugador.card_sum > 21:\n",
    "            print('BUST, you lost')\n",
    "        elif dealer.card_sum > 21:\n",
    "            print('Dealer busted, you win')\n",
    "            \n",
    "        elif dealer.card_sum > jugador.card_sum:\n",
    "            print(f'YOU LOST Dealer: {dealer.card_sum} | Player: {jugador.card_sum}')\n",
    "        \n",
    "        elif dealer.card_sum < jugador.card_sum:\n",
    "            print(f'YOU WIN Dealer: {dealer.card_sum} | Player: {jugador.card_sum}')\n",
    "            \n",
    "        elif dealer.card_sum < jugador.card_sum and jugador.card_sum == 21: \n",
    "            print(f'YOU WIN BLACKJACK Dealer: {dealer.card_sum} | Player: {jugador.card_sum}') \n",
    "            \n",
    "        "
   ]
  },
  {
   "cell_type": "code",
   "execution_count": 7,
   "id": "077a58f1",
   "metadata": {},
   "outputs": [
    {
     "name": "stdout",
     "output_type": "stream",
     "text": [
      "5 of hearts : 5 points\n",
      "None\n",
      "3 of hearts : 3 points\n",
      "None\n"
     ]
    }
   ],
   "source": [
    "#1. CREAR MASO DE CARTAS\n",
    "\n",
    "my_deck = Deck()\n",
    "\n",
    "#2. CREAR DEALER Y JUGADOR\n",
    "\n",
    "dealer = Dealer('dealer')\n",
    "\n",
    "player = Jugador('player')\n",
    "\n",
    "#3. DEALER DRAWS CARD Y JUGADOR DRAWS CARD \n",
    "\n",
    "dealer.elegir_carta(my_deck)\n",
    "player.elegir_carta(my_deck)\n",
    "\n",
    "#4. Dealer y jugador show cards\n",
    "\n",
    "dealer.show_hand()\n",
    "player.show_hand()\n",
    "\n",
    "#5. DEALER DRAWS CARD (NO SE MUESTRA) Y JUGADOR DRAWS CARD\n",
    "\n",
    "#6 IMPRIME LA MANO DEL JUGADOR\n",
    "\n",
    "#7 PREGUNTA POR SI QUIERE SACAR UNA MAS...\n",
    "\n",
    "#8 CHEQUEA QUE LA MANO DEL DEALER SEA MENOR O MAYOR A 16 Y DRAWS (O NO ) CARD\n",
    "\n",
    "#9 COMPARA PUNTAJES\n",
    "\n"
   ]
  },
  {
   "cell_type": "code",
   "execution_count": 9,
   "id": "9e76b642",
   "metadata": {},
   "outputs": [],
   "source": [
    "dealer.elegir_carta(my_deck)\n",
    "player.elegir_carta(my_deck)"
   ]
  },
  {
   "cell_type": "code",
   "execution_count": 10,
   "id": "feaba939",
   "metadata": {},
   "outputs": [
    {
     "name": "stdout",
     "output_type": "stream",
     "text": [
      "3 of hearts : 3 points\n",
      "None\n",
      "5 of diamonds : 5 points\n",
      "None\n"
     ]
    }
   ],
   "source": [
    "player.show_hand()"
   ]
  },
  {
   "cell_type": "code",
   "execution_count": 12,
   "id": "1f7980c1",
   "metadata": {},
   "outputs": [
    {
     "name": "stdout",
     "output_type": "stream",
     "text": [
      "Quieres sacar una carta más? Si/No: si\n"
     ]
    }
   ],
   "source": [
    "player.preguntar(my_deck)"
   ]
  },
  {
   "cell_type": "code",
   "execution_count": 14,
   "id": "7158069e",
   "metadata": {},
   "outputs": [
    {
     "name": "stdout",
     "output_type": "stream",
     "text": [
      "3 of hearts : 3 points\n",
      "None\n",
      "5 of diamonds : 5 points\n",
      "None\n",
      "9 of hearts : 9 points\n",
      "None\n"
     ]
    }
   ],
   "source": [
    "player.show_hand()"
   ]
  },
  {
   "cell_type": "code",
   "execution_count": 27,
   "id": "1d9ed58c",
   "metadata": {},
   "outputs": [],
   "source": [
    "dealer.mano_menor(my_deck)"
   ]
  },
  {
   "cell_type": "code",
   "execution_count": 16,
   "id": "5cd478d7",
   "metadata": {},
   "outputs": [],
   "source": [
    "game = Game()"
   ]
  },
  {
   "cell_type": "code",
   "execution_count": 22,
   "id": "bdf491b9",
   "metadata": {},
   "outputs": [
    {
     "data": {
      "text/plain": [
       "18"
      ]
     },
     "execution_count": 22,
     "metadata": {},
     "output_type": "execute_result"
    }
   ],
   "source": [
    "dealer.card_sum"
   ]
  },
  {
   "cell_type": "code",
   "execution_count": 23,
   "id": "18817a43",
   "metadata": {},
   "outputs": [
    {
     "data": {
      "text/plain": [
       "17"
      ]
     },
     "execution_count": 23,
     "metadata": {},
     "output_type": "execute_result"
    }
   ],
   "source": [
    "player.card_sum\n"
   ]
  },
  {
   "cell_type": "code",
   "execution_count": 24,
   "id": "f7ebe0ea",
   "metadata": {},
   "outputs": [
    {
     "data": {
      "text/plain": [
       "<__main__.Game at 0x7f98e49715e0>"
      ]
     },
     "execution_count": 24,
     "metadata": {},
     "output_type": "execute_result"
    }
   ],
   "source": [
    "game"
   ]
  },
  {
   "cell_type": "code",
   "execution_count": 29,
   "id": "a9f934d6",
   "metadata": {},
   "outputs": [
    {
     "name": "stdout",
     "output_type": "stream",
     "text": [
      "YOU LOST Dealer: 18 | Player: 17\n"
     ]
    }
   ],
   "source": [
    "game.check_points(dealer,player)"
   ]
  },
  {
   "cell_type": "code",
   "execution_count": 33,
   "id": "e862cc04",
   "metadata": {},
   "outputs": [
    {
     "data": {
      "text/plain": [
       "47"
      ]
     },
     "execution_count": 33,
     "metadata": {},
     "output_type": "execute_result"
    }
   ],
   "source": [
    "len(my_deck.cards)\n"
   ]
  },
  {
   "cell_type": "code",
   "execution_count": null,
   "id": "1cec47a2",
   "metadata": {},
   "outputs": [],
   "source": []
  }
 ],
 "metadata": {
  "kernelspec": {
   "display_name": "Python 3 (ipykernel)",
   "language": "python",
   "name": "python3"
  },
  "language_info": {
   "codemirror_mode": {
    "name": "ipython",
    "version": 3
   },
   "file_extension": ".py",
   "mimetype": "text/x-python",
   "name": "python",
   "nbconvert_exporter": "python",
   "pygments_lexer": "ipython3",
   "version": "3.9.7"
  }
 },
 "nbformat": 4,
 "nbformat_minor": 5
}
