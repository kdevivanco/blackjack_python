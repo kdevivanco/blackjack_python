{
 "cells": [
  {
   "cell_type": "code",
   "execution_count": 4,
   "id": "50deba47",
   "metadata": {},
   "outputs": [],
   "source": [
    "class Card:\n",
    "\n",
    "    def __init__( self , suit , point_val , string_val ):\n",
    "        \n",
    "        self.suit = suit\n",
    "        self.point_val = point_val\n",
    "        self.string_val = string_val\n",
    "\n",
    "    def card_info(self):\n",
    "        print(f\"{self.string_val} of {self.suit} : {self.point_val} points\") \n",
    "        \n"
   ]
  },
  {
   "cell_type": "code",
   "execution_count": 46,
   "id": "7bcd8da3",
   "metadata": {},
   "outputs": [],
   "source": [
    "import random \n",
    "\n",
    "class Deck:\n",
    "\n",
    "\n",
    "    def __init__( self ):\n",
    "        suits = [ \"spades\" , \"hearts\" , \"clubs\" , \"diamonds\" ]\n",
    "        self.cards = []\n",
    "\n",
    "        for s in suits:\n",
    "            for i in range(1,14):\n",
    "                str_val = \"\"\n",
    "                if i == 1:\n",
    "                    str_val = \"Ace\"\n",
    "                elif i == 11:\n",
    "                    str_val = \"Jack\"\n",
    "                elif i == 12:\n",
    "                    str_val = \"Queen\"\n",
    "                elif i == 13:\n",
    "                    str_val = \"King\"\n",
    "                else:\n",
    "                    str_val = str(i)\n",
    "                self.cards.append(Card( s , i , str_val ) )\n",
    "\n",
    "    def show_cards(self):\n",
    "        for card in self.cards:\n",
    "            card.card_info()\n",
    "\n",
    "    def show_values(self):\n",
    "        for card in self.cards:\n",
    "            print(card.point_val)\n",
    "    \n",
    "    def elegir_carta(self):\n",
    "        carta_elegida = random.choice(self.cards)\n",
    "        self.cards.remove(carta_elegida)  \n",
    "        return carta_elegida"
   ]
  },
  {
   "cell_type": "code",
   "execution_count": 44,
   "id": "d14a1172",
   "metadata": {},
   "outputs": [],
   "source": [
    "masodecartas = Deck()"
   ]
  },
  {
   "cell_type": "code",
   "execution_count": 45,
   "id": "ac09fa33",
   "metadata": {},
   "outputs": [
    {
     "name": "stdout",
     "output_type": "stream",
     "text": [
      "5 of clubs : 5 points\n",
      "None\n",
      "False\n"
     ]
    },
    {
     "data": {
      "text/plain": [
       "<__main__.Card at 0x7fb65b9e9130>"
      ]
     },
     "execution_count": 45,
     "metadata": {},
     "output_type": "execute_result"
    }
   ],
   "source": [
    "masodecartas.sacar_carta()"
   ]
  },
  {
   "cell_type": "code",
   "execution_count": null,
   "id": "5557ba27",
   "metadata": {},
   "outputs": [],
   "source": []
  },
  {
   "cell_type": "code",
   "execution_count": null,
   "id": "85c64412",
   "metadata": {},
   "outputs": [],
   "source": []
  }
 ],
 "metadata": {
  "kernelspec": {
   "display_name": "Python 3 (ipykernel)",
   "language": "python",
   "name": "python3"
  },
  "language_info": {
   "codemirror_mode": {
    "name": "ipython",
    "version": 3
   },
   "file_extension": ".py",
   "mimetype": "text/x-python",
   "name": "python",
   "nbconvert_exporter": "python",
   "pygments_lexer": "ipython3",
   "version": "3.9.7"
  }
 },
 "nbformat": 4,
 "nbformat_minor": 5
}
